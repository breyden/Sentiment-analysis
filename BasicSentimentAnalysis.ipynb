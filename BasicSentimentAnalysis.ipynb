{
 "cells": [
  {
   "cell_type": "code",
   "execution_count": 1,
   "metadata": {},
   "outputs": [
    {
     "name": "stdout",
     "output_type": "stream",
     "text": [
      "Sentiment(polarity=-0.3, subjectivity=0.3)\n",
      "Sentiment(polarity=-0.3, subjectivity=0.3)\n"
     ]
    }
   ],
   "source": [
    "from textblob import TextBlob\n",
    "feedback=\"the food at Mcdonals sucks\"\n",
    "feedback2=\"the food at Mcdonals was awesome\"\n",
    "blob=TextBlob(feedback)\n",
    "blob2=TextBlob(feedback)\n",
    "\n",
    "print(blob.sentiment)  # prints the polarity and subjectivity \n",
    "print(blob2.sentiment)"
   ]
  },
  {
   "cell_type": "code",
   "execution_count": null,
   "metadata": {},
   "outputs": [],
   "source": []
  }
 ],
 "metadata": {
  "kernelspec": {
   "display_name": "Python 2",
   "language": "python",
   "name": "python2"
  },
  "language_info": {
   "codemirror_mode": {
    "name": "ipython",
    "version": 2
   },
   "file_extension": ".py",
   "mimetype": "text/x-python",
   "name": "python",
   "nbconvert_exporter": "python",
   "pygments_lexer": "ipython2",
   "version": "2.7.16"
  }
 },
 "nbformat": 4,
 "nbformat_minor": 2
}
